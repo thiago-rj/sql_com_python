{
  "nbformat": 4,
  "nbformat_minor": 0,
  "metadata": {
    "colab": {
      "provenance": [],
      "authorship_tag": "ABX9TyMeu0d/y4vbcyM43QQXnAu1",
      "include_colab_link": true
    },
    "kernelspec": {
      "name": "python3",
      "display_name": "Python 3"
    },
    "language_info": {
      "name": "python"
    }
  },
  "cells": [
    {
      "cell_type": "markdown",
      "metadata": {
        "id": "view-in-github",
        "colab_type": "text"
      },
      "source": [
        "<a href=\"https://colab.research.google.com/github/thiago-rj/sql_com_python/blob/main/SQL_com_Python.ipynb\" target=\"_parent\"><img src=\"https://colab.research.google.com/assets/colab-badge.svg\" alt=\"Open In Colab\"/></a>"
      ]
    },
    {
      "cell_type": "code",
      "execution_count": 2,
      "metadata": {
        "id": "OSavxMfnf-0s"
      },
      "outputs": [],
      "source": [
        "# Biblioteca\n",
        "import sqlite3"
      ]
    },
    {
      "cell_type": "code",
      "source": [
        "from platform import python_version\n",
        "\n",
        "print(python_version())"
      ],
      "metadata": {
        "colab": {
          "base_uri": "https://localhost:8080/"
        },
        "id": "JXS7qZk_B6PS",
        "outputId": "4b63a281-9f58-4310-c5ba-74004d5e756a"
      },
      "execution_count": 3,
      "outputs": [
        {
          "output_type": "stream",
          "name": "stdout",
          "text": [
            "3.10.6\n"
          ]
        }
      ]
    },
    {
      "cell_type": "code",
      "source": [
        "# Criar um banco de dados\n",
        "Conexao = sqlite3.connect('Banco_Dados')\n",
        "# Apontar para o banco\n",
        "Cursor = Conexao.cursor()"
      ],
      "metadata": {
        "id": "qSw-Wgy5B6rf"
      },
      "execution_count": 5,
      "outputs": []
    },
    {
      "cell_type": "code",
      "source": [
        "# Criando uma tabela\n",
        "Cursor.execute(\n",
        "    'CREATE TABLE Minha_Tabela ( Data text, Nome text, Idade real ) '\n",
        ")\n",
        "\n",
        "# FAzer um commit\n",
        "Conexao.commit()"
      ],
      "metadata": {
        "id": "GxMysqAmB9BX"
      },
      "execution_count": 6,
      "outputs": []
    },
    {
      "cell_type": "code",
      "source": [
        "# Inserindo valores\n",
        "Cursor.execute(' INSERT INTO Minha_Tabela VALUES ( \"01/05/2023\", \"Thiago\", \"29\" ) ')\n",
        "Cursor.execute(' INSERT INTO Minha_Tabela VALUES ( \"05/05/2023\", \"Lucas\", \"25\" ) ')"
      ],
      "metadata": {
        "colab": {
          "base_uri": "https://localhost:8080/"
        },
        "id": "bS9hzCx7CLjn",
        "outputId": "5a86ca0a-3c60-4b06-bb7a-c9a395d016c8"
      },
      "execution_count": 7,
      "outputs": [
        {
          "output_type": "execute_result",
          "data": {
            "text/plain": [
              "<sqlite3.Cursor at 0x7d56e12485c0>"
            ]
          },
          "metadata": {},
          "execution_count": 7
        }
      ]
    },
    {
      "cell_type": "code",
      "source": [
        "# Importar Numeros aleatorios\n",
        "import random\n",
        "# Loop\n",
        "for Loop in range(10):\n",
        "\n",
        "  # Gernado um numero aleatorio\n",
        "  Numero = random.randint(10, 20)\n",
        "\n",
        "  # Inserir informação na minha tabela\n",
        "  Cursor.execute( f' INSERT INTO Minha_Tabela VALUES ( \"04/06/2023\", \"Lucas\", {Numero} ) ')"
      ],
      "metadata": {
        "id": "eiJwenUgCeCp"
      },
      "execution_count": 8,
      "outputs": []
    },
    {
      "cell_type": "code",
      "source": [
        "# Query de consulta - Todas as Colunas\n",
        "Consulta = Cursor.execute('SELECT * FROM Minha_Tabela').fetchall()\n",
        "\n",
        "for Linha in Consulta:\n",
        "  print( Linha )"
      ],
      "metadata": {
        "colab": {
          "base_uri": "https://localhost:8080/"
        },
        "id": "oOiFZHR1CtqI",
        "outputId": "1c12894f-a352-4ec2-f80e-9c232cd48da0"
      },
      "execution_count": 9,
      "outputs": [
        {
          "output_type": "stream",
          "name": "stdout",
          "text": [
            "('01/05/2023', 'Thiago', 29.0)\n",
            "('05/05/2023', 'Lucas', 25.0)\n",
            "('04/06/2023', 'Lucas', 14.0)\n",
            "('04/06/2023', 'Lucas', 14.0)\n",
            "('04/06/2023', 'Lucas', 14.0)\n",
            "('04/06/2023', 'Lucas', 14.0)\n",
            "('04/06/2023', 'Lucas', 13.0)\n",
            "('04/06/2023', 'Lucas', 10.0)\n",
            "('04/06/2023', 'Lucas', 20.0)\n",
            "('04/06/2023', 'Lucas', 15.0)\n",
            "('04/06/2023', 'Lucas', 13.0)\n",
            "('04/06/2023', 'Lucas', 15.0)\n"
          ]
        }
      ]
    },
    {
      "cell_type": "code",
      "source": [
        "# Query usando o BetWeen e Order By decrescente\n",
        "Consulta = Cursor.execute(\n",
        "    '''\n",
        "    SELECT *  FROM Minha_Tabela\n",
        "    WHERE idade BETWEEN 15 AND 25\n",
        "    ORDER BY Idade DESC\n",
        "    '''\n",
        ").fetchall()\n",
        "\n",
        "for Linha in Consulta:\n",
        "  print( Linha )"
      ],
      "metadata": {
        "colab": {
          "base_uri": "https://localhost:8080/"
        },
        "id": "XLvbyMVEC1RH",
        "outputId": "113ba926-ad72-44c0-f37b-a47f392aa870"
      },
      "execution_count": 23,
      "outputs": [
        {
          "output_type": "stream",
          "name": "stdout",
          "text": [
            "('05/05/2023', 'Lucas', 25.0)\n",
            "('04/06/2023', 'Lucas', 20.0)\n",
            "('04/06/2023', 'Lucas', 15.0)\n",
            "('04/06/2023', 'Lucas', 15.0)\n"
          ]
        }
      ]
    },
    {
      "cell_type": "code",
      "source": [
        "# Query usando MEDIA de idade por nome. OBS: Mesma regra se aplica para SUM, COUNT, MIN e MAX\n",
        "Consulta = Cursor.execute(\n",
        "    '''\n",
        "    SELECT Nome,\n",
        "          AVG(idade) as idade\n",
        "     FROM Minha_Tabela\n",
        "    GROUP BY  Nome\n",
        "    ORDER BY Idade DESC\n",
        "    '''\n",
        ").fetchall()\n",
        "\n",
        "for Linha in Consulta:\n",
        "  print( Linha )"
      ],
      "metadata": {
        "colab": {
          "base_uri": "https://localhost:8080/"
        },
        "id": "ltsHsb7RDGCi",
        "outputId": "3e38aa7a-a43a-4a1e-e22d-a65c7014cd24"
      },
      "execution_count": 25,
      "outputs": [
        {
          "output_type": "stream",
          "name": "stdout",
          "text": [
            "('Thiago', 29.0)\n",
            "('Lucas', 15.181818181818182)\n"
          ]
        }
      ]
    },
    {
      "cell_type": "code",
      "source": [
        "#Consultando usando LEFT JOIN\n",
        "Consulta = Cursor.execute(\n",
        "    '''\n",
        "    SELECT C.Nome as Nome,\n",
        "           V.Valor as Valor\n",
        "     FROM Tab_Vendas as V\n",
        "    LEFT JOIN Tab_Cadastro_Vendedor C\n",
        "    ON V.id = C.id\n",
        "    '''\n",
        ").fetchall()\n",
        "\n",
        "for Linha in Consulta:\n",
        "  print( Linha )"
      ],
      "metadata": {
        "colab": {
          "base_uri": "https://localhost:8080/"
        },
        "id": "4T01WOcjE1zo",
        "outputId": "69fd538d-eaae-4158-9873-fe1b750dddf6"
      },
      "execution_count": 34,
      "outputs": [
        {
          "output_type": "stream",
          "name": "stdout",
          "text": [
            "('Thiago Queiroz', 100.0)\n",
            "('Thiago Queiroz', 200.0)\n",
            "('Thiago Queiroz', 150.0)\n",
            "('Lucas Santos', 50.0)\n",
            "('Lucas Santos', 200.0)\n",
            "('Lucas Santos', 900.0)\n"
          ]
        }
      ]
    }
  ]
}